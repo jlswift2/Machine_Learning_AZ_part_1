{
  "nbformat": 4,
  "nbformat_minor": 0,
  "metadata": {
    "colab": {
      "provenance": [],
      "authorship_tag": "ABX9TyNf0swswfeAnjFWsqkrLKHo",
      "include_colab_link": true
    },
    "kernelspec": {
      "name": "python3",
      "display_name": "Python 3"
    },
    "language_info": {
      "name": "python"
    }
  },
  "cells": [
    {
      "cell_type": "markdown",
      "metadata": {
        "id": "view-in-github",
        "colab_type": "text"
      },
      "source": [
        "<a href=\"https://colab.research.google.com/github/jlswift2/Machine_Learning_AZ_part_1/blob/master/Multiple_Linear_Regression_P_Value_Test.ipynb\" target=\"_parent\"><img src=\"https://colab.research.google.com/assets/colab-badge.svg\" alt=\"Open In Colab\"/></a>"
      ]
    },
    {
      "cell_type": "code",
      "execution_count": 5,
      "metadata": {
        "colab": {
          "base_uri": "https://localhost:8080/"
        },
        "id": "kEEl9rcRP8XS",
        "outputId": "f102c312-3101-49b8-e856-eb54a17e1ffd"
      },
      "outputs": [
        {
          "output_type": "stream",
          "name": "stdout",
          "text": [
            "                            OLS Regression Results                            \n",
            "==============================================================================\n",
            "Dep. Variable:                      y   R-squared:                       0.950\n",
            "Model:                            OLS   Adj. R-squared:                  0.943\n",
            "Method:                 Least Squares   F-statistic:                     129.7\n",
            "Date:                Thu, 02 Feb 2023   Prob (F-statistic):           3.91e-21\n",
            "Time:                        04:23:14   Log-Likelihood:                -421.10\n",
            "No. Observations:                  40   AIC:                             854.2\n",
            "Df Residuals:                      34   BIC:                             864.3\n",
            "Df Model:                           5                                         \n",
            "Covariance Type:            nonrobust                                         \n",
            "==============================================================================\n",
            "                 coef    std err          t      P>|t|      [0.025      0.975]\n",
            "------------------------------------------------------------------------------\n",
            "x1          4.255e+04   8358.538      5.091      0.000    2.56e+04    5.95e+04\n",
            "x2          4.159e+04   9015.583      4.614      0.000    2.33e+04    5.99e+04\n",
            "x3          4.325e+04   8315.816      5.201      0.000    2.64e+04    6.02e+04\n",
            "x4             0.7735      0.055     14.025      0.000       0.661       0.886\n",
            "x5             0.0329      0.066      0.495      0.624      -0.102       0.168\n",
            "x6             0.0366      0.019      1.884      0.068      -0.003       0.076\n",
            "==============================================================================\n",
            "Omnibus:                       15.823   Durbin-Watson:                   2.468\n",
            "Prob(Omnibus):                  0.000   Jarque-Bera (JB):               23.231\n",
            "Skew:                          -1.094   Prob(JB):                     9.03e-06\n",
            "Kurtosis:                       6.025   Cond. No.                     2.52e+06\n",
            "==============================================================================\n",
            "\n",
            "Notes:\n",
            "[1] Standard Errors assume that the covariance matrix of the errors is correctly specified.\n",
            "[2] The condition number is large, 2.52e+06. This might indicate that there are\n",
            "strong multicollinearity or other numerical problems.\n"
          ]
        }
      ],
      "source": [
        "import pandas as pd , numpy as np\n",
        "from sklearn import datasets, linear_model\n",
        "from sklearn.linear_model import LinearRegression\n",
        "import statsmodels.api as sma\n",
        "\n",
        "#import data\n",
        "dataset = pd.read_csv('50_Startups.csv')\n",
        "X = dataset.iloc[:, :-1].values\n",
        "y = dataset.iloc[:, -1].values\n",
        "\n",
        "#encode categorical data \n",
        "from sklearn.compose import ColumnTransformer\n",
        "from sklearn.preprocessing import OneHotEncoder\n",
        "ct = ColumnTransformer(transformers=[('encoder', OneHotEncoder(), [3])], remainder='passthrough')\n",
        "X = np.array(ct.fit_transform(X))\n",
        "\n",
        "#Split data\n",
        "from sklearn.model_selection import train_test_split\n",
        "X_train, X_test, y_train, y_test = train_test_split(X, y, test_size = 0.2, random_state = 0)\n",
        "\n",
        "#Convert to numpy digestable arrays\n",
        "X_train = np.array(X_train, dtype=float)\n",
        "y_train = np.array(y_train, dtype=float)\n",
        "\n",
        "#calculate p value\n",
        "mod = sma.OLS(y_train, X_train)\n",
        "fii = mod.fit()\n",
        "\n",
        "\n",
        "print(fii.summary())"
      ]
    },
    {
      "cell_type": "code",
      "source": [
        "#train the model\n",
        "regressor = LinearRegression()\n",
        "regressor.fit(X_train, y_train)\n",
        "\n",
        "#predict results\n",
        "y_pred = regressor.predict(X_test)\n",
        "np.set_printoptions(precision=2)\n",
        "print(np.concatenate((y_pred.reshape(len(y_pred), 1), y_test.reshape(len(y_test), 1)), 1))\n",
        "\n"
      ],
      "metadata": {
        "colab": {
          "base_uri": "https://localhost:8080/"
        },
        "id": "4llIIiuVZtpy",
        "outputId": "42d68fb3-7373-42e7-91a4-a695ea924748"
      },
      "execution_count": 6,
      "outputs": [
        {
          "output_type": "stream",
          "name": "stdout",
          "text": [
            "[[103015.2  103282.38]\n",
            " [132582.28 144259.4 ]\n",
            " [132447.74 146121.95]\n",
            " [ 71976.1   77798.83]\n",
            " [178537.48 191050.39]\n",
            " [116161.24 105008.31]\n",
            " [ 67851.69  81229.06]\n",
            " [ 98791.73  97483.56]\n",
            " [113969.44 110352.25]\n",
            " [167921.07 166187.94]]\n"
          ]
        }
      ]
    }
  ]
}